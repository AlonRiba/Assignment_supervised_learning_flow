{
 "cells": [
  {
   "cell_type": "markdown",
   "id": "ec202ada",
   "metadata": {},
   "source": [
    "# Assignment - Supervised Learning flow"
   ]
  },
  {
   "cell_type": "markdown",
   "id": "b06a2810",
   "metadata": {},
   "source": [
    "# Part 1(a) Student details:\n",
    "* Please write the First-Name, First letter of Last-Name and last 4 digits of the i.d. for each student. "
   ]
  },
  {
   "cell_type": "code",
   "execution_count": 1,
   "id": "ca16486b",
   "metadata": {},
   "outputs": [],
   "source": [
    "# stundent details example: John S. 9812\n",
    "#  Alon B. 2607                   student details 1: \n",
    " "
   ]
  },
  {
   "cell_type": "markdown",
   "id": "abb64166-b32e-4b86-a7ee-84106c8b3a92",
   "metadata": {},
   "source": [
    "## Part 1(b) - Chat-GPT/other AI-agent/other assistance used:\n",
    "* If you changed the prompt until you got a satisfying answer, please add all versions\n",
    "* don't delete \"pre\" tags, so new-line is supported\n",
    "* double click the following markdown cell to change\n",
    "* press shift+enter to view\n",
    "* Add information:"
   ]
  },
  {
   "cell_type": "markdown",
   "id": "ea93f0d3-7aa1-4a95-b084-395f5f7c6c0c",
   "metadata": {},
   "source": [
    "#### Add information in this Markdown cell (double click to change, shift-enter to view)\n",
    "<pre>   \n",
    "AI agent name:\n",
    "Goal:\n",
    "Propmpt1:\n",
    "    \n",
    "Propmpt2:\n",
    "    \n",
    "Propmpt3: \n",
    "\n",
    "\n",
    "AI agent name 2:\n",
    "Goal:\n",
    "Propmpt1:\n",
    "    \n",
    "Propmpt2:\n",
    "    \n",
    "Propmpt3: \n",
    "\n",
    "Other assistanse:    \n",
    "</pre>"
   ]
  },
  {
   "cell_type": "markdown",
   "id": "0e4fbaab-e5a5-40ed-be0f-9a2cb7931a4b",
   "metadata": {},
   "source": [
    "## Part 1(c) - Learning Problem and dataset explaination.\n",
    "* Please explain in one paragraph\n",
    "* don't delete \"pre\" tags, so new-line is supported\n",
    "* double click the following markdown cell to change\n",
    "* press shift+enter to view\n",
    "* Add explaining text:"
   ]
  },
  {
   "cell_type": "markdown",
   "id": "9bafd150",
   "metadata": {},
   "source": []
  },
  {
   "cell_type": "markdown",
   "id": "dd8565df-2778-4b89-83bd-6b227063789f",
   "metadata": {},
   "source": []
  },
  {
   "cell_type": "markdown",
   "id": "df67c2ee-87c8-499c-a04f-1853c332f51d",
   "metadata": {},
   "source": [
    "## Part 2 - Initial Preparations \n",
    "You could add as many code cells as needed"
   ]
  },
  {
   "cell_type": "markdown",
   "id": "5d6b51cb",
   "metadata": {},
   "source": [
    "Set paths and target, load train/test, drop ID columns. Quick EDA: types, missing values, a few plots; look at survival by Sex, Pclass, and Age."
   ]
  },
  {
   "cell_type": "markdown",
   "id": "c908c01d",
   "metadata": {},
   "source": [
    "### Initial preparations & EDA\n",
    "**Config:** Set file paths, target, and a fixed random seed.\n",
    "\n",
    "**Loading:** Read the provided `train`/`test` CSVs (no extra split), drop ID columns, and confirm shapes/columns.\n",
    "\n",
    "**EDA (what to look for):**\n",
    "- Missing values, dtypes, distributions (histograms), correlations.\n",
    "- Survival rate by **Sex** and **Pclass**, and **Age** distribution by outcome.\n",
    "Add a one‑line takeaway beneath each plot (e.g., “Females higher survival”, “3rd class much lower survival”, etc.)."
   ]
  },
  {
   "cell_type": "code",
   "execution_count": 1,
   "id": "b29b3454-b568-4614-8017-f15b3c59fc55",
   "metadata": {},
   "outputs": [],
   "source": [
    "# === Configuration ===\n",
    "TASK_TYPE = \"classification\"   \n",
    "TRAIN_CSV = \"titanic_train.csv\"\n",
    "TEST_CSV  = \"titanic_test.csv\"\n",
    "TARGET_COL = \"Survived\"\n",
    "ID_COLS = [\"PassengerId\"] \n",
    "RANDOM_STATE = 42\n"
   ]
  },
  {
   "cell_type": "code",
   "execution_count": 2,
   "id": "4b47fe56-d611-4b28-be92-673db4d56400",
   "metadata": {},
   "outputs": [],
   "source": [
    "\n",
    "import numpy as np\n",
    "import pandas as pd\n",
    "import matplotlib.pyplot as plt\n",
    "\n",
    "from pathlib import Path\n",
    "\n",
    "from sklearn.model_selection import KFold, GridSearchCV\n",
    "from sklearn.metrics import (\n",
    "    r2_score, f1_score, classification_report, confusion_matrix\n",
    ")\n",
    "from sklearn.compose import ColumnTransformer\n",
    "from sklearn.pipeline import Pipeline\n",
    "from sklearn.preprocessing import StandardScaler, MinMaxScaler, OneHotEncoder, FunctionTransformer\n",
    "from sklearn.impute import SimpleImputer\n",
    "from sklearn.feature_selection import VarianceThreshold\n",
    "\n",
    "# Models\n",
    "from sklearn.linear_model import LogisticRegression, LinearRegression, Ridge, Lasso\n",
    "from sklearn.tree import DecisionTreeClassifier, DecisionTreeRegressor\n",
    "from sklearn.ensemble import RandomForestClassifier, RandomForestRegressor\n",
    "from sklearn.svm import SVC, SVR\n",
    "\n",
    "np.random.seed(RANDOM_STATE)\n",
    "\n",
    "def detect_problem_type(y: pd.Series, declared: str):\n",
    "    if declared == \"regression\":\n",
    "        return \"regression\", None\n",
    "    nunique = y.nunique(dropna=True)\n",
    "    return (\"binary\", 2) if nunique <= 2 else (\"multiclass\", nunique)\n",
    "\n",
    "def show_confusion_matrix(cm, class_names=None, title=\"Confusion Matrix\"):\n",
    "    fig = plt.figure(figsize=(5,4))\n",
    "    plt.imshow(cm, interpolation='nearest')\n",
    "    plt.title(title)\n",
    "    plt.colorbar()\n",
    "    ticks = np.arange(len(class_names)) if class_names is not None else np.arange(cm.shape[0])\n",
    "    plt.xticks(ticks, class_names if class_names is not None else ticks, rotation=45)\n",
    "    plt.yticks(ticks, class_names if class_names is not None else ticks)\n",
    "    thresh = cm.max() / 2.\n",
    "    for i in range(cm.shape[0]):\n",
    "        for j in range(cm.shape[1]):\n",
    "            plt.text(j, i, format(cm[i, j], 'd'),\n",
    "                     ha=\"center\",\n",
    "                     color=\"white\" if cm[i, j] > thresh else \"black\")\n",
    "    plt.ylabel('True'); plt.xlabel('Pred'); plt.tight_layout(); plt.show()\n",
    "\n",
    "# Titanic-specific feature engineering\n",
    "def make_titanic_features(df):\n",
    "    X = df.copy()\n",
    "    # Title from Name\n",
    "    if \"Name\" in X.columns:\n",
    "        titles = X[\"Name\"].str.extract(r\",\\s*([^\\.]+)\\.\", expand=False).fillna(\"\")\n",
    "        title_map = {\n",
    "            \"Mlle\": \"Miss\", \"Ms\": \"Miss\", \"Mme\": \"Mrs\", \"Lady\": \"Royalty\",\n",
    "            \"Countess\": \"Royalty\", \"Sir\": \"Royalty\", \"Jonkheer\": \"Royalty\",\n",
    "            \"Don\": \"Royalty\", \"Dona\": \"Royalty\", \"Capt\": \"Officer\", \"Col\": \"Officer\",\n",
    "            \"Major\": \"Officer\", \"Dr\": \"Officer\", \"Rev\": \"Officer\"\n",
    "        }\n",
    "        titles = titles.replace(title_map)\n",
    "        rare = titles.value_counts()[titles.value_counts() < 10].index\n",
    "        titles = titles.where(~titles.isin(rare), other=\"Rare\")\n",
    "        X[\"Title\"] = titles\n",
    "    # Family size / IsAlone\n",
    "    for col in [\"SibSp\", \"Parch\"]:\n",
    "        if col not in X.columns:\n",
    "            X[col] = 0\n",
    "    X[\"FamilySize\"] = X[\"SibSp\"].fillna(0) + X[\"Parch\"].fillna(0) + 1\n",
    "    X[\"IsAlone\"] = (X[\"FamilySize\"] == 1).astype(int)\n",
    "    # Cabin deck\n",
    "    if \"Cabin\" in X.columns:\n",
    "        X[\"CabinDeck\"] = X[\"Cabin\"].astype(str).str[0].where(X[\"Cabin\"].notna(), other=\"U\")\n",
    "    # Drop high-cardinality text\n",
    "    for col in [\"Name\", \"Ticket\", \"Cabin\"]:\n",
    "        if col in X.columns:\n",
    "            X = X.drop(columns=[col])\n",
    "    return X\n"
   ]
  },
  {
   "cell_type": "code",
   "execution_count": 3,
   "id": "53e27610-b640-4db0-80c9-789b5f5fae58",
   "metadata": {},
   "outputs": [
    {
     "name": "stdout",
     "output_type": "stream",
     "text": [
      "Train shape: (712, 8)  Test shape: (179, 8)\n"
     ]
    },
    {
     "data": {
      "text/html": [
       "<div>\n",
       "<style scoped>\n",
       "    .dataframe tbody tr th:only-of-type {\n",
       "        vertical-align: middle;\n",
       "    }\n",
       "\n",
       "    .dataframe tbody tr th {\n",
       "        vertical-align: top;\n",
       "    }\n",
       "\n",
       "    .dataframe thead th {\n",
       "        text-align: right;\n",
       "    }\n",
       "</style>\n",
       "<table border=\"1\" class=\"dataframe\">\n",
       "  <thead>\n",
       "    <tr style=\"text-align: right;\">\n",
       "      <th></th>\n",
       "      <th>Pclass</th>\n",
       "      <th>Sex</th>\n",
       "      <th>Age</th>\n",
       "      <th>SibSp</th>\n",
       "      <th>Parch</th>\n",
       "      <th>Fare</th>\n",
       "      <th>Embarked</th>\n",
       "      <th>Survived</th>\n",
       "    </tr>\n",
       "  </thead>\n",
       "  <tbody>\n",
       "    <tr>\n",
       "      <th>0</th>\n",
       "      <td>1</td>\n",
       "      <td>0</td>\n",
       "      <td>54.0</td>\n",
       "      <td>1</td>\n",
       "      <td>0</td>\n",
       "      <td>78.2667</td>\n",
       "      <td>1</td>\n",
       "      <td>1</td>\n",
       "    </tr>\n",
       "    <tr>\n",
       "      <th>1</th>\n",
       "      <td>2</td>\n",
       "      <td>0</td>\n",
       "      <td>45.0</td>\n",
       "      <td>0</td>\n",
       "      <td>0</td>\n",
       "      <td>13.5000</td>\n",
       "      <td>0</td>\n",
       "      <td>1</td>\n",
       "    </tr>\n",
       "    <tr>\n",
       "      <th>2</th>\n",
       "      <td>3</td>\n",
       "      <td>1</td>\n",
       "      <td>20.0</td>\n",
       "      <td>0</td>\n",
       "      <td>0</td>\n",
       "      <td>9.5000</td>\n",
       "      <td>0</td>\n",
       "      <td>0</td>\n",
       "    </tr>\n",
       "    <tr>\n",
       "      <th>3</th>\n",
       "      <td>3</td>\n",
       "      <td>1</td>\n",
       "      <td>36.0</td>\n",
       "      <td>0</td>\n",
       "      <td>0</td>\n",
       "      <td>7.8958</td>\n",
       "      <td>0</td>\n",
       "      <td>0</td>\n",
       "    </tr>\n",
       "    <tr>\n",
       "      <th>4</th>\n",
       "      <td>3</td>\n",
       "      <td>1</td>\n",
       "      <td>22.0</td>\n",
       "      <td>0</td>\n",
       "      <td>0</td>\n",
       "      <td>8.0500</td>\n",
       "      <td>0</td>\n",
       "      <td>0</td>\n",
       "    </tr>\n",
       "  </tbody>\n",
       "</table>\n",
       "</div>"
      ],
      "text/plain": [
       "   Pclass  Sex   Age  SibSp  Parch     Fare  Embarked  Survived\n",
       "0       1    0  54.0      1      0  78.2667         1         1\n",
       "1       2    0  45.0      0      0  13.5000         0         1\n",
       "2       3    1  20.0      0      0   9.5000         0         0\n",
       "3       3    1  36.0      0      0   7.8958         0         0\n",
       "4       3    1  22.0      0      0   8.0500         0         0"
      ]
     },
     "metadata": {},
     "output_type": "display_data"
    },
    {
     "data": {
      "text/html": [
       "<div>\n",
       "<style scoped>\n",
       "    .dataframe tbody tr th:only-of-type {\n",
       "        vertical-align: middle;\n",
       "    }\n",
       "\n",
       "    .dataframe tbody tr th {\n",
       "        vertical-align: top;\n",
       "    }\n",
       "\n",
       "    .dataframe thead th {\n",
       "        text-align: right;\n",
       "    }\n",
       "</style>\n",
       "<table border=\"1\" class=\"dataframe\">\n",
       "  <thead>\n",
       "    <tr style=\"text-align: right;\">\n",
       "      <th></th>\n",
       "      <th>Pclass</th>\n",
       "      <th>Sex</th>\n",
       "      <th>Age</th>\n",
       "      <th>SibSp</th>\n",
       "      <th>Parch</th>\n",
       "      <th>Fare</th>\n",
       "      <th>Embarked</th>\n",
       "      <th>Survived</th>\n",
       "    </tr>\n",
       "  </thead>\n",
       "  <tbody>\n",
       "    <tr>\n",
       "      <th>0</th>\n",
       "      <td>3</td>\n",
       "      <td>1</td>\n",
       "      <td>35.000000</td>\n",
       "      <td>0</td>\n",
       "      <td>0</td>\n",
       "      <td>7.0500</td>\n",
       "      <td>0</td>\n",
       "      <td>0</td>\n",
       "    </tr>\n",
       "    <tr>\n",
       "      <th>1</th>\n",
       "      <td>3</td>\n",
       "      <td>1</td>\n",
       "      <td>30.000000</td>\n",
       "      <td>0</td>\n",
       "      <td>0</td>\n",
       "      <td>7.2500</td>\n",
       "      <td>0</td>\n",
       "      <td>0</td>\n",
       "    </tr>\n",
       "    <tr>\n",
       "      <th>2</th>\n",
       "      <td>3</td>\n",
       "      <td>1</td>\n",
       "      <td>29.699118</td>\n",
       "      <td>0</td>\n",
       "      <td>0</td>\n",
       "      <td>14.5000</td>\n",
       "      <td>0</td>\n",
       "      <td>0</td>\n",
       "    </tr>\n",
       "    <tr>\n",
       "      <th>3</th>\n",
       "      <td>3</td>\n",
       "      <td>0</td>\n",
       "      <td>21.000000</td>\n",
       "      <td>0</td>\n",
       "      <td>0</td>\n",
       "      <td>7.7500</td>\n",
       "      <td>2</td>\n",
       "      <td>0</td>\n",
       "    </tr>\n",
       "    <tr>\n",
       "      <th>4</th>\n",
       "      <td>3</td>\n",
       "      <td>1</td>\n",
       "      <td>32.000000</td>\n",
       "      <td>0</td>\n",
       "      <td>0</td>\n",
       "      <td>56.4958</td>\n",
       "      <td>0</td>\n",
       "      <td>1</td>\n",
       "    </tr>\n",
       "  </tbody>\n",
       "</table>\n",
       "</div>"
      ],
      "text/plain": [
       "   Pclass  Sex        Age  SibSp  Parch     Fare  Embarked  Survived\n",
       "0       3    1  35.000000      0      0   7.0500         0         0\n",
       "1       3    1  30.000000      0      0   7.2500         0         0\n",
       "2       3    1  29.699118      0      0  14.5000         0         0\n",
       "3       3    0  21.000000      0      0   7.7500         2         0\n",
       "4       3    1  32.000000      0      0  56.4958         0         1"
      ]
     },
     "metadata": {},
     "output_type": "display_data"
    },
    {
     "name": "stdout",
     "output_type": "stream",
     "text": [
      "Detected problem: binary classes: 2\n",
      "Target distribution (train):\n"
     ]
    },
    {
     "data": {
      "text/plain": [
       "Survived\n",
       "0    0.605337\n",
       "1    0.394663\n",
       "Name: ratio, dtype: float64"
      ]
     },
     "metadata": {},
     "output_type": "display_data"
    }
   ],
   "source": [
    "# =|== Load Data ==\\=\n",
    "train_path, test_path = Path(TRAIN_CSV), Path(TEST_CSV)\n",
    "assert train_path.exists(), f\"Train CSV not found: {train_path}\"\n",
    "assert test_path.exists(),  f\"Test CSV not found: {test_path}\"\n",
    "\n",
    "df_train = pd.read_csv(train_path)\n",
    "df_test  = pd.read_csv(test_path)\n",
    "\n",
    "# Drop ID columns if specified\n",
    "if ID_COLS:\n",
    "    df_train = df_train.drop(columns=ID_COLS, errors='ignore')\n",
    "    df_test  = df_test.drop(columns=ID_COLS, errors='ignore')\n",
    "\n",
    "assert TARGET_COL in df_train.columns and TARGET_COL in df_test.columns, \"Target missing in CSVs.\"\n",
    "\n",
    "y_train = df_train[TARGET_COL]\n",
    "X_train = df_train.drop(columns=[TARGET_COL])\n",
    "y_test  = df_test[TARGET_COL]\n",
    "X_test  = df_test.drop(columns=[TARGET_COL])\n",
    "\n",
    "print(\"Train shape:\", df_train.shape, \" Test shape:\", df_test.shape)\n",
    "display(df_train.head())\n",
    "display(df_test.head())\n",
    "\n",
    "problem_kind, n_classes = detect_problem_type(y_train, \"classification\")\n",
    "print(\"Detected problem:\", problem_kind, \"classes:\", n_classes)\n",
    "print(\"Target distribution (train):\")\n",
    "display(y_train.value_counts(normalize=True).rename('ratio'))\n"
   ]
  },
  {
   "cell_type": "markdown",
   "id": "fb36672a",
   "metadata": {},
   "source": [
    "## Part 3 - Experiments\n",
    "You could add as many code cells as needed"
   ]
  },
  {
   "cell_type": "markdown",
   "id": "b13e01b1",
   "metadata": {},
   "source": [
    " Add simple features (Title, FamilySize, IsAlone, CabinDeck). Compare a few preprocessing options and models. Use 5‑fold CV with F1 to pick the best."
   ]
  },
  {
   "cell_type": "markdown",
   "id": "69de8003",
   "metadata": {},
   "source": [
    "###(Experiments: FE × Models × Hyper‑params with 5‑fold CV)\n",
    "**Feature Engineering:** Apply a `FunctionTransformer` that adds `Title`, `FamilySize`, `IsAlone`, `CabinDeck`, then drop high‑cardinality text.\n",
    "\n",
    "**FE Variants:** basic / standardize / minmax / variance‑threshold.\n",
    "\n",
    "**Models & Params:** LogisticRegression, DecisionTree, RandomForest, SVC — each with a small grid (≥2 hyper‑params).\n",
    "\n",
    "**Validation:** **GridSearchCV** over the Cartesian product (FE × model × params) with **KFold(n_splits=5)** and **scoring='f1'**.\n",
    "\n",
    "**Output:** A table of mean CV F1 per permutation and the selected **best** configuration."
   ]
  },
  {
   "cell_type": "code",
   "execution_count": 4,
   "id": "b7098585",
   "metadata": {},
   "outputs": [
    {
     "name": "stdout",
     "output_type": "stream",
     "text": [
      "DTypes:\n",
      " int64      5\n",
      "float64    2\n",
      "Name: count, dtype: int64\n",
      "\n",
      "Missing values (train):\n",
      " Pclass      0\n",
      "Sex         0\n",
      "Age         0\n",
      "SibSp       0\n",
      "Parch       0\n",
      "Fare        0\n",
      "Embarked    0\n",
      "dtype: int64\n"
     ]
    },
    {
     "data": {
      "image/png": "[encoded data removed]",
      "text/plain": [
       "<Figure size 640x480 with 1 Axes>"
      ]
     },
     "metadata": {},
     "output_type": "display_data"
    },
    {
     "data": {
      "image/png": "[encoded data removed]",
      "text/plain": [
       "<Figure size 640x480 with 1 Axes>"
      ]
     },
     "metadata": {},
     "output_type": "display_data"
    },
    {
     "data": {
      "image/png": "[encoded data removed]",
      "text/plain": [
       "<Figure size 640x480 with 1 Axes>"
      ]
     },
     "metadata": {},
     "output_type": "display_data"
    },
    {
     "data": {
      "image/png": "[encoded data removed]",
      "text/plain": [
       "<Figure size 600x500 with 2 Axes>"
      ]
     },
     "metadata": {},
     "output_type": "display_data"
    }
   ],
   "source": [
    "# === EDA (General) ===\n",
    "print(\"DTypes:\\n\", X_train.dtypes.value_counts())\n",
    "print(\"\\nMissing values (train):\\n\", X_train.isna().sum().sort_values(ascending=False).head(20))\n",
    "\n",
    "# Histograms for a few numeric columns\n",
    "numeric_cols = X_train.select_dtypes(include=[np.number]).columns.tolist()\n",
    "for col in numeric_cols[:3]:\n",
    "    plt.figure()\n",
    "    X_train[col].hist(bins=30)\n",
    "    plt.title(f\"Histogram: {col}\")\n",
    "    plt.xlabel(col); plt.ylabel(\"count\"); plt.show()\n",
    "\n",
    "# Correlation heatmap (subset)\n",
    "subset = numeric_cols[:10]\n",
    "if len(subset) >= 2:\n",
    "    corr = X_train[subset].corr(numeric_only=True)\n",
    "    plt.figure(figsize=(6,5))\n",
    "    plt.imshow(corr, interpolation='nearest')\n",
    "    plt.title(\"Correlation heatmap (subset)\")\n",
    "    plt.xticks(range(len(subset)), subset, rotation=90)\n",
    "    plt.yticks(range(len(subset)), subset)\n",
    "    plt.colorbar(); plt.tight_layout(); plt.show()\n"
   ]
  },
  {
   "cell_type": "code",
   "execution_count": 5,
   "id": "097afb02",
   "metadata": {},
   "outputs": [
    {
     "data": {
      "image/png": "[encoded data removed]",
      "text/plain": [
       "<Figure size 640x480 with 1 Axes>"
      ]
     },
     "metadata": {},
     "output_type": "display_data"
    },
    {
     "data": {
      "image/png": "[encoded data removed]",
      "text/plain": [
       "<Figure size 640x480 with 1 Axes>"
      ]
     },
     "metadata": {},
     "output_type": "display_data"
    },
    {
     "data": {
      "image/png": "[encoded data removed]",
      "text/plain": [
       "<Figure size 640x480 with 1 Axes>"
      ]
     },
     "metadata": {},
     "output_type": "display_data"
    }
   ],
   "source": [
    "# === Titanic-specific EDA ===\n",
    "# Survival rate by Sex\n",
    "if \"Sex\" in X_train.columns:\n",
    "    rates = y_train.groupby(X_train[\"Sex\"]).mean()\n",
    "    plt.figure(); rates.plot(kind=\"bar\"); plt.title(\"Survival rate by Sex\")\n",
    "    plt.ylabel(\"Survival rate\"); plt.xlabel(\"Sex\"); plt.show()\n",
    "\n",
    "# Survival rate by Pclass\n",
    "if \"Pclass\" in X_train.columns:\n",
    "    rates = y_train.groupby(X_train[\"Pclass\"]).mean()\n",
    "    plt.figure(); rates.plot(kind=\"bar\"); plt.title(\"Survival rate by Pclass\")\n",
    "    plt.ylabel(\"Survival rate\"); plt.xlabel(\"Pclass\"); plt.show()\n",
    "\n",
    "# Age KDE by Survived\n",
    "if \"Age\" in X_train.columns:\n",
    "    plt.figure()\n",
    "    for lab in sorted(y_train.unique()):\n",
    "        X_train.loc[y_train==lab, \"Age\"].plot(kind=\"kde\")\n",
    "    plt.title(\"Age density by Survived\"); plt.xlabel(\"Age\"); plt.show()\n"
   ]
  },
  {
   "cell_type": "code",
   "execution_count": 6,
   "id": "1fa9ec73",
   "metadata": {},
   "outputs": [
    {
     "name": "stdout",
     "output_type": "stream",
     "text": [
      "Top CV results:\n"
     ]
    },
    {
     "data": {
      "text/html": [
       "<div>\n",
       "<style scoped>\n",
       "    .dataframe tbody tr th:only-of-type {\n",
       "        vertical-align: middle;\n",
       "    }\n",
       "\n",
       "    .dataframe tbody tr th {\n",
       "        vertical-align: top;\n",
       "    }\n",
       "\n",
       "    .dataframe thead th {\n",
       "        text-align: right;\n",
       "    }\n",
       "</style>\n",
       "<table border=\"1\" class=\"dataframe\">\n",
       "  <thead>\n",
       "    <tr style=\"text-align: right;\">\n",
       "      <th></th>\n",
       "      <th>fe</th>\n",
       "      <th>model</th>\n",
       "      <th>params</th>\n",
       "      <th>cv_score</th>\n",
       "    </tr>\n",
       "  </thead>\n",
       "  <tbody>\n",
       "    <tr>\n",
       "      <th>0</th>\n",
       "      <td>standardize</td>\n",
       "      <td>SVC</td>\n",
       "      <td>{'model__C': 1.0, 'model__kernel': 'rbf'}</td>\n",
       "      <td>0.765428</td>\n",
       "    </tr>\n",
       "    <tr>\n",
       "      <th>1</th>\n",
       "      <td>standardize</td>\n",
       "      <td>SVC</td>\n",
       "      <td>{'model__C': 0.5, 'model__kernel': 'rbf'}</td>\n",
       "      <td>0.761160</td>\n",
       "    </tr>\n",
       "    <tr>\n",
       "      <th>2</th>\n",
       "      <td>standardize</td>\n",
       "      <td>DecisionTreeClassifier</td>\n",
       "      <td>{'model__max_depth': 5, 'model__min_samples_sp...</td>\n",
       "      <td>0.750393</td>\n",
       "    </tr>\n",
       "    <tr>\n",
       "      <th>3</th>\n",
       "      <td>basic</td>\n",
       "      <td>DecisionTreeClassifier</td>\n",
       "      <td>{'model__max_depth': 5, 'model__min_samples_sp...</td>\n",
       "      <td>0.750393</td>\n",
       "    </tr>\n",
       "    <tr>\n",
       "      <th>4</th>\n",
       "      <td>basic_varthresh</td>\n",
       "      <td>DecisionTreeClassifier</td>\n",
       "      <td>{'model__max_depth': 5, 'model__min_samples_sp...</td>\n",
       "      <td>0.750393</td>\n",
       "    </tr>\n",
       "    <tr>\n",
       "      <th>5</th>\n",
       "      <td>minmax</td>\n",
       "      <td>DecisionTreeClassifier</td>\n",
       "      <td>{'model__max_depth': 5, 'model__min_samples_sp...</td>\n",
       "      <td>0.750393</td>\n",
       "    </tr>\n",
       "    <tr>\n",
       "      <th>6</th>\n",
       "      <td>standardize</td>\n",
       "      <td>RandomForestClassifier</td>\n",
       "      <td>{'model__max_depth': None, 'model__n_estimator...</td>\n",
       "      <td>0.748001</td>\n",
       "    </tr>\n",
       "    <tr>\n",
       "      <th>7</th>\n",
       "      <td>standardize</td>\n",
       "      <td>RandomForestClassifier</td>\n",
       "      <td>{'model__max_depth': 10, 'model__n_estimators'...</td>\n",
       "      <td>0.744557</td>\n",
       "    </tr>\n",
       "    <tr>\n",
       "      <th>8</th>\n",
       "      <td>minmax</td>\n",
       "      <td>DecisionTreeClassifier</td>\n",
       "      <td>{'model__max_depth': 5, 'model__min_samples_sp...</td>\n",
       "      <td>0.743775</td>\n",
       "    </tr>\n",
       "    <tr>\n",
       "      <th>9</th>\n",
       "      <td>basic_varthresh</td>\n",
       "      <td>DecisionTreeClassifier</td>\n",
       "      <td>{'model__max_depth': 5, 'model__min_samples_sp...</td>\n",
       "      <td>0.743775</td>\n",
       "    </tr>\n",
       "    <tr>\n",
       "      <th>10</th>\n",
       "      <td>standardize</td>\n",
       "      <td>DecisionTreeClassifier</td>\n",
       "      <td>{'model__max_depth': 5, 'model__min_samples_sp...</td>\n",
       "      <td>0.743775</td>\n",
       "    </tr>\n",
       "    <tr>\n",
       "      <th>11</th>\n",
       "      <td>basic</td>\n",
       "      <td>DecisionTreeClassifier</td>\n",
       "      <td>{'model__max_depth': 5, 'model__min_samples_sp...</td>\n",
       "      <td>0.743775</td>\n",
       "    </tr>\n",
       "    <tr>\n",
       "      <th>12</th>\n",
       "      <td>basic</td>\n",
       "      <td>RandomForestClassifier</td>\n",
       "      <td>{'model__max_depth': 10, 'model__n_estimators'...</td>\n",
       "      <td>0.743046</td>\n",
       "    </tr>\n",
       "    <tr>\n",
       "      <th>13</th>\n",
       "      <td>basic_varthresh</td>\n",
       "      <td>RandomForestClassifier</td>\n",
       "      <td>{'model__max_depth': 10, 'model__n_estimators'...</td>\n",
       "      <td>0.743046</td>\n",
       "    </tr>\n",
       "    <tr>\n",
       "      <th>14</th>\n",
       "      <td>standardize</td>\n",
       "      <td>RandomForestClassifier</td>\n",
       "      <td>{'model__max_depth': None, 'model__n_estimator...</td>\n",
       "      <td>0.741781</td>\n",
       "    </tr>\n",
       "    <tr>\n",
       "      <th>15</th>\n",
       "      <td>standardize</td>\n",
       "      <td>RandomForestClassifier</td>\n",
       "      <td>{'model__max_depth': 10, 'model__n_estimators'...</td>\n",
       "      <td>0.741051</td>\n",
       "    </tr>\n",
       "    <tr>\n",
       "      <th>16</th>\n",
       "      <td>basic_varthresh</td>\n",
       "      <td>RandomForestClassifier</td>\n",
       "      <td>{'model__max_depth': None, 'model__n_estimator...</td>\n",
       "      <td>0.740650</td>\n",
       "    </tr>\n",
       "    <tr>\n",
       "      <th>17</th>\n",
       "      <td>basic</td>\n",
       "      <td>RandomForestClassifier</td>\n",
       "      <td>{'model__max_depth': None, 'model__n_estimator...</td>\n",
       "      <td>0.740650</td>\n",
       "    </tr>\n",
       "    <tr>\n",
       "      <th>18</th>\n",
       "      <td>minmax</td>\n",
       "      <td>RandomForestClassifier</td>\n",
       "      <td>{'model__max_depth': 10, 'model__n_estimators'...</td>\n",
       "      <td>0.739475</td>\n",
       "    </tr>\n",
       "    <tr>\n",
       "      <th>19</th>\n",
       "      <td>standardize</td>\n",
       "      <td>LogisticRegression</td>\n",
       "      <td>{'model__C': 10.0}</td>\n",
       "      <td>0.739414</td>\n",
       "    </tr>\n",
       "  </tbody>\n",
       "</table>\n",
       "</div>"
      ],
      "text/plain": [
       "                 fe                   model  \\\n",
       "0       standardize                     SVC   \n",
       "1       standardize                     SVC   \n",
       "2       standardize  DecisionTreeClassifier   \n",
       "3             basic  DecisionTreeClassifier   \n",
       "4   basic_varthresh  DecisionTreeClassifier   \n",
       "5            minmax  DecisionTreeClassifier   \n",
       "6       standardize  RandomForestClassifier   \n",
       "7       standardize  RandomForestClassifier   \n",
       "8            minmax  DecisionTreeClassifier   \n",
       "9   basic_varthresh  DecisionTreeClassifier   \n",
       "10      standardize  DecisionTreeClassifier   \n",
       "11            basic  DecisionTreeClassifier   \n",
       "12            basic  RandomForestClassifier   \n",
       "13  basic_varthresh  RandomForestClassifier   \n",
       "14      standardize  RandomForestClassifier   \n",
       "15      standardize  RandomForestClassifier   \n",
       "16  basic_varthresh  RandomForestClassifier   \n",
       "17            basic  RandomForestClassifier   \n",
       "18           minmax  RandomForestClassifier   \n",
       "19      standardize      LogisticRegression   \n",
       "\n",
       "                                               params  cv_score  \n",
       "0           {'model__C': 1.0, 'model__kernel': 'rbf'}  0.765428  \n",
       "1           {'model__C': 0.5, 'model__kernel': 'rbf'}  0.761160  \n",
       "2   {'model__max_depth': 5, 'model__min_samples_sp...  0.750393  \n",
       "3   {'model__max_depth': 5, 'model__min_samples_sp...  0.750393  \n",
       "4   {'model__max_depth': 5, 'model__min_samples_sp...  0.750393  \n",
       "5   {'model__max_depth': 5, 'model__min_samples_sp...  0.750393  \n",
       "6   {'model__max_depth': None, 'model__n_estimator...  0.748001  \n",
       "7   {'model__max_depth': 10, 'model__n_estimators'...  0.744557  \n",
       "8   {'model__max_depth': 5, 'model__min_samples_sp...  0.743775  \n",
       "9   {'model__max_depth': 5, 'model__min_samples_sp...  0.743775  \n",
       "10  {'model__max_depth': 5, 'model__min_samples_sp...  0.743775  \n",
       "11  {'model__max_depth': 5, 'model__min_samples_sp...  0.743775  \n",
       "12  {'model__max_depth': 10, 'model__n_estimators'...  0.743046  \n",
       "13  {'model__max_depth': 10, 'model__n_estimators'...  0.743046  \n",
       "14  {'model__max_depth': None, 'model__n_estimator...  0.741781  \n",
       "15  {'model__max_depth': 10, 'model__n_estimators'...  0.741051  \n",
       "16  {'model__max_depth': None, 'model__n_estimator...  0.740650  \n",
       "17  {'model__max_depth': None, 'model__n_estimator...  0.740650  \n",
       "18  {'model__max_depth': 10, 'model__n_estimators'...  0.739475  \n",
       "19                                 {'model__C': 10.0}  0.739414  "
      ]
     },
     "metadata": {},
     "output_type": "display_data"
    },
    {
     "name": "stdout",
     "output_type": "stream",
     "text": [
      "\n",
      "Best configuration from CV-\n"
     ]
    },
    {
     "data": {
      "text/plain": [
       "fe                                        standardize\n",
       "model                                             SVC\n",
       "params      {'model__C': 1.0, 'model__kernel': 'rbf'}\n",
       "cv_score                                     0.765428\n",
       "Name: 0, dtype: object"
      ]
     },
     "metadata": {},
     "output_type": "display_data"
    }
   ],
   "source": [
    "# === Experiments (5-fold CV) ===\n",
    "# Apply Titanic feature augmentations first\n",
    "feature_maker = FunctionTransformer(make_titanic_features, validate=False)\n",
    "\n",
    "# Identify column types AFTER feature-making\n",
    "X_aug = feature_maker.transform(X_train)\n",
    "num_cols = X_aug.select_dtypes(include=[np.number]).columns.tolist()\n",
    "cat_cols = X_aug.select_dtypes(exclude=[np.number]).columns.tolist()\n",
    "\n",
    "numeric_basic = Pipeline(steps=[(\"imputer\", SimpleImputer(strategy=\"median\"))])\n",
    "categorical_basic = Pipeline(steps=[(\"imputer\", SimpleImputer(strategy=\"most_frequent\")),\n",
    "                                    (\"oh\", OneHotEncoder(handle_unknown=\"ignore\"))])\n",
    "\n",
    "pre_basic = ColumnTransformer([(\"num\", numeric_basic, num_cols),\n",
    "                               (\"cat\", categorical_basic, cat_cols)])\n",
    "\n",
    "fe_variants = {\n",
    "    \"basic\": pre_basic,\n",
    "    \"standardize\": ColumnTransformer([\n",
    "        (\"num\", Pipeline([(\"imputer\", SimpleImputer(strategy=\"median\")),\n",
    "                          (\"scaler\", StandardScaler())]), num_cols),\n",
    "        (\"cat\", categorical_basic, cat_cols)\n",
    "    ]),\n",
    "    \"minmax\": ColumnTransformer([\n",
    "        (\"num\", Pipeline([(\"imputer\", SimpleImputer(strategy=\"median\")),\n",
    "                          (\"scaler\", MinMaxScaler())]), num_cols),\n",
    "        (\"cat\", categorical_basic, cat_cols)\n",
    "    ]),\n",
    "    \"basic_varthresh\": ColumnTransformer([\n",
    "        (\"num\", Pipeline([(\"imputer\", SimpleImputer(strategy=\"median\")),\n",
    "                          (\"vt\", VarianceThreshold(threshold=0.0))]), num_cols),\n",
    "        (\"cat\", categorical_basic, cat_cols)\n",
    "    ])\n",
    "}\n",
    "\n",
    "problem_metric = \"f1\"  # binary F1 as required\n",
    "\n",
    "models_and_grids = {\n",
    "    \"LogisticRegression\": (LogisticRegression(max_iter=1000, random_state=RANDOM_STATE),\n",
    "                           {\"model__C\": [0.1, 1.0, 10.0]}),\n",
    "    \"DecisionTreeClassifier\": (DecisionTreeClassifier(random_state=RANDOM_STATE),\n",
    "                               {\"model__max_depth\": [None, 5, 10],\n",
    "                                \"model__min_samples_split\": [2, 5]}),\n",
    "    \"RandomForestClassifier\": (RandomForestClassifier(random_state=RANDOM_STATE, n_jobs=-1),\n",
    "                               {\"model__n_estimators\": [200, 400],\n",
    "                                \"model__max_depth\": [None, 10]}),\n",
    "    \"SVC\": (SVC(random_state=RANDOM_STATE),\n",
    "            {\"model__C\": [0.5, 1.0], \"model__kernel\": [\"rbf\", \"linear\"]}),\n",
    "}\n",
    "\n",
    "cv = KFold(n_splits=5, shuffle=True, random_state=RANDOM_STATE)\n",
    "\n",
    "results_rows = []\n",
    "for fe_name, pre in fe_variants.items():\n",
    "    for model_name, (model_obj, grid_params) in models_and_grids.items():\n",
    "        pipe = Pipeline([(\"feat\", feature_maker), (\"pre\", pre), (\"model\", model_obj)])\n",
    "        grid = GridSearchCV(pipe, param_grid=grid_params, cv=cv,\n",
    "                            scoring=problem_metric, n_jobs=-1, return_train_score=False)\n",
    "        grid.fit(X_train, y_train)\n",
    "        # Collect CV results\n",
    "        for i, mean in enumerate(grid.cv_results_[\"mean_test_score\"]):\n",
    "            params = grid.cv_results_[\"params\"][i].copy()\n",
    "            results_rows.append({\n",
    "                \"fe\": fe_name,\n",
    "                \"model\": model_name,\n",
    "                \"params\": params,\n",
    "                \"cv_score\": mean\n",
    "            })\n",
    "\n",
    "results_df = pd.DataFrame(results_rows).sort_values(\"cv_score\", ascending=False).reset_index(drop=True)\n",
    "print(\"Top CV results:\")\n",
    "display(results_df.head(20))\n",
    "\n",
    "best_row = results_df.iloc[0]\n",
    "print(\"\\nBest configuration from CV-\")\n",
    "display(best_row)\n"
   ]
  },
  {
   "cell_type": "code",
   "execution_count": null,
   "id": "937b653d",
   "metadata": {},
   "outputs": [],
   "source": []
  },
  {
   "cell_type": "code",
   "execution_count": null,
   "id": "678dbf8c-ff53-4b82-80aa-c47c700daab9",
   "metadata": {},
   "outputs": [],
   "source": []
  },
  {
   "cell_type": "code",
   "execution_count": null,
   "id": "cd1151d0-0b4b-441d-965a-77cca0dd894f",
   "metadata": {},
   "outputs": [],
   "source": []
  },
  {
   "cell_type": "code",
   "execution_count": null,
   "id": "b8cf9ff9-e406-4c4a-8330-f1f58645c485",
   "metadata": {},
   "outputs": [],
   "source": []
  },
  {
   "cell_type": "markdown",
   "id": "67d97f11",
   "metadata": {},
   "source": [
    "## Part 4 - Training \n",
    "Use the best combination of feature engineering, model (algorithm and hyperparameters) from the experiment part (part 3)"
   ]
  },
  {
   "cell_type": "markdown",
   "id": "74cc5dad",
   "metadata": {},
   "source": [
    "Refit the winning pipeline on the full training set (same preprocessing + tuned params) before testing."
   ]
  },
  {
   "cell_type": "markdown",
   "id": "a5d22184",
   "metadata": {},
   "source": [
    "### Training the best configuration\n",
    "**Why:** After model selection, retrain the **winning pipeline** (chosen FE + model + best hyper‑params) on the **entire training set** to maximize learned signal.\n",
    "\n",
    "**What we fit:** The exact pipeline printed as ‘best’ in Part 3 (same preprocessing + estimator), refit on all training data."
   ]
  },
  {
   "cell_type": "code",
   "execution_count": 7,
   "id": "93713ead",
   "metadata": {},
   "outputs": [
    {
     "name": "stdout",
     "output_type": "stream",
     "text": [
      "Best pipeline trained on full train set.\n"
     ]
    }
   ],
   "source": [
    "# === Retrain best on full train ===\n",
    "best_fe = fe_variants[best_row[\"fe\"]]\n",
    "best_model_name = best_row[\"model\"]\n",
    "best_params = best_row[\"params\"]\n",
    "\n",
    "model_obj, _ = models_and_grids[best_model_name]\n",
    "best_pipe = Pipeline([(\"feat\", FunctionTransformer(make_titanic_features, validate=False)), (\"pre\", best_fe), (\"model\", model_obj)])\n",
    "for k, v in best_params.items():\n",
    "    best_pipe.set_params(**{k: v})\n",
    "best_pipe.fit(X_train, y_train)\n",
    "print(\"Best pipeline trained on full train set.\")\n"
   ]
  },
  {
   "cell_type": "code",
   "execution_count": null,
   "id": "c0fc460d",
   "metadata": {},
   "outputs": [],
   "source": []
  },
  {
   "cell_type": "code",
   "execution_count": null,
   "id": "064ad0a0",
   "metadata": {},
   "outputs": [],
   "source": []
  },
  {
   "cell_type": "markdown",
   "id": "259ab902",
   "metadata": {},
   "source": [
    "## Part 5 - Apply on test and show model performance estimation"
   ]
  },
  {
   "cell_type": "markdown",
   "id": "d8440a57",
   "metadata": {},
   "source": [
    "Evaluate on the test set — F1, classification report, confusion matrix. Add one sentence on the main error pattern."
   ]
  },
  {
   "cell_type": "markdown",
   "id": "83198c82",
   "metadata": {},
   "source": [
    "### Test evaluation & interpretation\n",
    "**Predict:** Use the trained best pipeline to predict on the **test set**.\n",
    "\n",
    "**Report:** **F1 (binary)**, the **classification report**, and a **confusion matrix**.\n",
    "\n",
    "**Interpret (1–2 lines):** Mention any precision/recall imbalance, where errors concentrate (e.g., false negatives),\n",
    "and show a tiny preview of predictions vs. ground truth if desired (first 5 rows)."
   ]
  },
  {
   "cell_type": "code",
   "execution_count": 8,
   "id": "d9971aa5",
   "metadata": {},
   "outputs": [
    {
     "name": "stdout",
     "output_type": "stream",
     "text": [
      "Test F1 (binary): 0.7521\n",
      "\n",
      "Classification report:\n",
      "               precision    recall  f1-score   support\n",
      "\n",
      "           0       0.86      0.90      0.88       118\n",
      "           1       0.79      0.72      0.75        61\n",
      "\n",
      "    accuracy                           0.84       179\n",
      "   macro avg       0.82      0.81      0.82       179\n",
      "weighted avg       0.84      0.84      0.84       179\n",
      "\n"
     ]
    },
    {
     "data": {
      "image/png": "[encoded data removed]",
      "text/plain": [
       "<Figure size 500x400 with 2 Axes>"
      ]
     },
     "metadata": {},
     "output_type": "display_data"
    }
   ],
   "source": [
    "# === Evaluate on test set ===\n",
    "y_pred = best_pipe.predict(X_test)\n",
    "\n",
    "test_f1 = f1_score(y_test, y_pred, average=\"binary\")\n",
    "print(f\"Test F1 (binary): {test_f1:.4f}\")\n",
    "print(\"\\nClassification report:\\n\", classification_report(y_test, y_pred, zero_division=0))\n",
    "\n",
    "labels = np.unique(np.concatenate([y_train.unique(), y_test.unique()]))\n",
    "cm = confusion_matrix(y_test, y_pred, labels=labels)\n",
    "show_confusion_matrix(cm, class_names=labels)\n"
   ]
  },
  {
   "cell_type": "code",
   "execution_count": 9,
   "id": "00d8aa96",
   "metadata": {},
   "outputs": [
    {
     "name": "stdout",
     "output_type": "stream",
     "text": [
      "Saved: C:\\Users\\alon2\\predictions_test.csv\n"
     ]
    }
   ],
   "source": [
    "# === Save predictions (optional) ===\n",
    "from pathlib import Path\n",
    "out = pd.DataFrame({\"y_true\": y_test, \"y_pred\": y_pred})\n",
    "out_path = Path(\"predictions_test.csv\")\n",
    "out.to_csv(out_path, index=False)\n",
    "print(\"Saved:\", out_path.resolve())\n"
   ]
  },
  {
   "cell_type": "code",
   "execution_count": null,
   "id": "511a61e4-cf2e-40e2-91a5-b51e7c985de0",
   "metadata": {},
   "outputs": [],
   "source": []
  },
  {
   "cell_type": "code",
   "execution_count": null,
   "id": "95026daa-8b02-4384-8327-8e898dd5885d",
   "metadata": {},
   "outputs": [],
   "source": []
  }
 ],
 "metadata": {
  "kernelspec": {
   "display_name": "Python [conda env:base] *",
   "language": "python",
   "name": "conda-base-py"
  },
  "language_info": {
   "codemirror_mode": {
    "name": "ipython",
    "version": 3
   },
   "file_extension": ".py",
   "mimetype": "text/x-python",
   "name": "python",
   "nbconvert_exporter": "python",
   "pygments_lexer": "ipython3",
   "version": "3.13.5"
  },
  "widgets": {
   "application/vnd.jupyter.widget-state+json": {
    "state": {},
    "version_major": 2,
    "version_minor": 0
   }
  }
 },
 "nbformat": 4,
 "nbformat_minor": 5
}
